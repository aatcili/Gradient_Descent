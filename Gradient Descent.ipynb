{
 "cells": [
  {
   "cell_type": "markdown",
   "metadata": {},
   "source": [
    "#### What is Gradient Descent? \n",
    "Gradient descent is an optimization algorithm used to minimize some function by iteratively moving in the direction of steepest descent as defined by the negative of the gradient. In machine learning, we use gradient descent to update the parameters of our model. Parameters refer to coefficients in Linear Regression and weights in neural networks.\n"
   ]
  },
  {
   "cell_type": "code",
   "execution_count": 1,
   "metadata": {},
   "outputs": [],
   "source": [
    "import numpy as np\n",
    "import matplotlib.pyplot as plt"
   ]
  },
  {
   "cell_type": "markdown",
   "metadata": {},
   "source": [
    "#### Lets see what is gradient descent"
   ]
  },
  {
   "cell_type": "markdown",
   "metadata": {},
   "source": [
    "$$ e= (y- \\hat{y})**2$$\n",
    "$$ \\hat{y} = Xb$$\n",
    "$$ e= (y- Xb)**2$$\n",
    "$$ \\frac{de}{db}= 2(y- Xb)(-X)$$"
   ]
  },
  {
   "cell_type": "markdown",
   "metadata": {},
   "source": [
    " #### Now it's time for us to describe the funcfion of gradient descent"
   ]
  },
  {
   "cell_type": "code",
   "execution_count": 3,
   "metadata": {},
   "outputs": [],
   "source": [
    "def gradient(X,y, tolerance = 10**-6, max_iter = 1000, learning_rate=0.1 ):\n",
    "    a = np.random.random()\n",
    "    print(a)\n",
    "    gradyan = 100\n",
    "    old_gradyan = float(\"inf\")\n",
    "    iter_ = 0\n",
    "    errors = []\n",
    "    while (abs(gradyan) > tolerance) and (max_iter > iter_):\n",
    "        errors.append((y - X*a) **2)\n",
    "        gradient = 2*(y-X*a)* (-X)\n",
    "        if abs(old_gradient) < abs(gradient):\n",
    "            print(\"Gradient became bigger and bigger\")\n",
    "            print('Gradient difference:', gradient)\n",
    "            break\n",
    "        a = a - learning_rate * gradient\n",
    "        iter_ += 1\n",
    "        old_gradient = gradient\n",
    "        if iter_ % 1000 == 0:\n",
    "            print(f'Gradient at iter {iter_}:', gradient)    \n",
    "    "
   ]
  },
  {
   "cell_type": "code",
   "execution_count": 22,
   "metadata": {},
   "outputs": [],
   "source": [
    "def gradient_descent (X, y, tolerance=10**-6,  learning_rate=0.01, max_iter=10000, normalize=False, verbose=0,\n",
    "                      return_errors=False):\n",
    "    if normalize:\n",
    "        X= X/y\n",
    "        y=y/y\n",
    "    iter_ = 0\n",
    "    a= np.random.random()\n",
    "    print(\"a = \", a)\n",
    "    gradient=10\n",
    "    old_gradient=float(\"inf\")  # old_gradient > gradient\n",
    "    errors = []\n",
    "    while (abs(gradient) > tolerance) and (max_iter > iter_):\n",
    "        errors.append((y-X*a)**2)\n",
    "        gradient = 2*(y-X*a)* (-X)\n",
    "        if abs(old_gradient) < abs(gradient):\n",
    "            print(\"Gradient became bigger and bigger\")\n",
    "            print('Gradient difference:', gradient)\n",
    "            break\n",
    "        a = a - learning_rate * gradient\n",
    "        iter_ += 1\n",
    "        old_gradient = gradient\n",
    "        if iter_ % 1000 == 0:\n",
    "            print(f'Gradient at iter {iter_}:', gradient)\n",
    "    print(\"Gradient = \",  gradient)\n",
    "    print(\"Iter= \", iter_)\n",
    "    \n",
    "    if return_errors:\n",
    "        return round(a,6), errors\n",
    "    return round(a,6)\n",
    "    "
   ]
  },
  {
   "cell_type": "code",
   "execution_count": 42,
   "metadata": {},
   "outputs": [
    {
     "name": "stdout",
     "output_type": "stream",
     "text": [
      "a =  0.3998533049189439\n",
      "Gradient =  -7.476862600275247e-07\n",
      "Iter=  18\n"
     ]
    },
    {
     "data": {
      "text/plain": [
       "19.999925"
      ]
     },
     "execution_count": 42,
     "metadata": {},
     "output_type": "execute_result"
    }
   ],
   "source": [
    "gradient_descent(50,1000,normalize=True, learning_rate=100 )"
   ]
  },
  {
   "cell_type": "code",
   "execution_count": 4,
   "metadata": {},
   "outputs": [
    {
     "name": "stdout",
     "output_type": "stream",
     "text": [
      "a =  0.4905403619374449\n",
      "Gradient at iter 1000: -1.5300916995641956e-06\n",
      "Gradient =  -9.976518342003082e-07\n",
      "Iter=  1034\n"
     ]
    },
    {
     "data": {
      "text/plain": [
       "3.999992"
      ]
     },
     "execution_count": 4,
     "metadata": {},
     "output_type": "execute_result"
    }
   ],
   "source": [
    "gradient_descent(3,12, normalize=True, verbose=1, learning_rate=0.1)"
   ]
  },
  {
   "cell_type": "code",
   "execution_count": 13,
   "metadata": {},
   "outputs": [
    {
     "name": "stdout",
     "output_type": "stream",
     "text": [
      "a =  0.6015595556179854\n",
      "Gradient =  -8.782390281680819e-07\n",
      "Iter=  92\n"
     ]
    },
    {
     "data": {
      "text/plain": [
       "4.0"
      ]
     },
     "execution_count": 13,
     "metadata": {},
     "output_type": "execute_result"
    }
   ],
   "source": [
    "gradient_descent(3,12, normalize=False, verbose=1)"
   ]
  },
  {
   "cell_type": "code",
   "execution_count": 14,
   "metadata": {},
   "outputs": [
    {
     "name": "stdout",
     "output_type": "stream",
     "text": [
      "a =  0.3764418533901204\n",
      "Gradient =  -9.632537576464983e-07\n",
      "Iter=  167\n"
     ]
    },
    {
     "data": {
      "text/plain": [
       "0.5"
      ]
     },
     "execution_count": 14,
     "metadata": {},
     "output_type": "execute_result"
    }
   ],
   "source": [
    "gradient_descent(1200,600, normalize=True)"
   ]
  },
  {
   "cell_type": "code",
   "execution_count": 8,
   "metadata": {},
   "outputs": [
    {
     "name": "stdout",
     "output_type": "stream",
     "text": [
      "a =  0.8287365708212909\n",
      "Gradient became bigger and bigger\n",
      "Gradient difference: 8111415.978399385\n",
      "Gradient =  8111415.978399385\n",
      "Iter=  1\n"
     ]
    },
    {
     "data": {
      "text/plain": [
       "63470.437331"
      ]
     },
     "execution_count": 8,
     "metadata": {},
     "output_type": "execute_result"
    }
   ],
   "source": [
    "gradient_descent(8,800, learning_rate=5,normalize=False)"
   ]
  },
  {
   "cell_type": "code",
   "execution_count": 7,
   "metadata": {},
   "outputs": [
    {
     "name": "stdout",
     "output_type": "stream",
     "text": [
      "a =  0.5758123865107517\n",
      "Gradient at iter 1000: -0.007318882662072069\n",
      "Gradient at iter 2000: -0.0026911196692794336\n",
      "Gradient at iter 3000: -0.0009895123899052029\n",
      "Gradient at iter 4000: -0.0003638391785223227\n",
      "Gradient at iter 5000: -0.0001337820012950819\n",
      "Gradient at iter 6000: -4.9191029792921e-05\n",
      "Gradient at iter 7000: -1.8087316594621594e-05\n",
      "Gradient at iter 8000: -6.650623558255298e-06\n",
      "Gradient at iter 9000: -2.4454038542609523e-06\n",
      "Gradient =  -9.997630147329239e-07\n",
      "Iter=  9894\n"
     ]
    },
    {
     "data": {
      "text/plain": [
       "99.995006"
      ]
     },
     "execution_count": 7,
     "metadata": {},
     "output_type": "execute_result"
    }
   ],
   "source": [
    "gradient_descent(8,800, learning_rate=5,normalize=True)"
   ]
  },
  {
   "cell_type": "markdown",
   "metadata": {},
   "source": [
    "#### Lets see what happens when gradient > old_gradient"
   ]
  },
  {
   "cell_type": "code",
   "execution_count": 8,
   "metadata": {},
   "outputs": [
    {
     "name": "stdout",
     "output_type": "stream",
     "text": [
      "a =  0.9208987092755816\n",
      "Gradient became bigger and bigger\n",
      "Gradient difference: 443.3905858643162\n",
      "Gradient =  443.3905858643162\n",
      "Iter=  1\n"
     ]
    },
    {
     "data": {
      "text/plain": [
       "28.63281"
      ]
     },
     "execution_count": 8,
     "metadata": {},
     "output_type": "execute_result"
    }
   ],
   "source": [
    "gradient_descent(3,12, learning_rate=0.5) "
   ]
  },
  {
   "cell_type": "code",
   "execution_count": 43,
   "metadata": {},
   "outputs": [
    {
     "name": "stdout",
     "output_type": "stream",
     "text": [
      "a =  0.45696326263128284\n",
      "Gradient became bigger and bigger\n",
      "Gradient difference: 399515.0482501413\n",
      "Gradient =  399515.0482501413\n",
      "Iter=  1\n",
      "a =  0.029567266263030745\n",
      "Gradient became bigger and bigger\n",
      "Gradient difference: 75475.34160103633\n",
      "Gradient =  75475.34160103633\n",
      "Iter=  1\n",
      "a =  0.6403237322847768\n",
      "Gradient =  -7.070120773278177e-07\n",
      "Iter=  19\n",
      "a =  0.8487757553097334\n",
      "Gradient =  -9.637496987124905e-07\n",
      "Iter=  166\n"
     ]
    },
    {
     "data": {
      "text/plain": [
       "(0, 100)"
      ]
     },
     "execution_count": 43,
     "metadata": {},
     "output_type": "execute_result"
    },
    {
     "data": {
      "image/png": "[encoded data removed]",
      "text/plain": [
       "<Figure size 432x288 with 1 Axes>"
      ]
     },
     "metadata": {
      "needs_background": "light"
     },
     "output_type": "display_data"
    }
   ],
   "source": [
    "for lr in [0.5, 0.1, 0.01, 0.001]:\n",
    "    _, errors = gradient_descent(8, 400, learning_rate=lr, return_errors=True)\n",
    "    plt.plot(errors, label=f'lr={lr}')\n",
    "    \n",
    "plt.legend()\n",
    "plt.ylim(0, 100)"
   ]
  },
  {
   "cell_type": "markdown",
   "metadata": {},
   "source": [
    "![gradient descent](http://www.cs.us.es/~fsancho/images/2017-02/gradient_descent.gif)"
   ]
  },
  {
   "cell_type": "code",
   "execution_count": null,
   "metadata": {},
   "outputs": [],
   "source": []
  }
 ],
 "metadata": {
  "kernelspec": {
   "display_name": "Python 3",
   "language": "python",
   "name": "python3"
  },
  "language_info": {
   "codemirror_mode": {
    "name": "ipython",
    "version": 3
   },
   "file_extension": ".py",
   "mimetype": "text/x-python",
   "name": "python",
   "nbconvert_exporter": "python",
   "pygments_lexer": "ipython3",
   "version": "3.7.6"
  }
 },
 "nbformat": 4,
 "nbformat_minor": 2
}
